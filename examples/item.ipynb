{
 "cells": [
  {
   "cell_type": "markdown",
   "id": "11358d9c-a7fa-42ea-b2e2-e8a86b78f84b",
   "metadata": {},
   "source": [
    "# Basic example\n",
    "\n",
    "This is a very basic example of how to use DB1.\n",
    "\n",
    "#"
   ]
  },
  {
   "cell_type": "markdown",
   "id": "4129d753-e03f-4d05-a860-b5cfac2e3e53",
   "metadata": {},
   "source": [
    "### Import db1 and other dependencies"
   ]
  },
  {
   "cell_type": "code",
   "execution_count": 1,
   "id": "04b99490-be8c-4fa4-884a-9540d82cab20",
   "metadata": {},
   "outputs": [],
   "source": [
    "import db1\n",
    "from db1 import DB1\n",
    "import numpy as np\n",
    "import pandas as pd"
   ]
  },
  {
   "cell_type": "code",
   "execution_count": 2,
   "id": "f179bab8-397e-49da-babe-d70e5221eec5",
   "metadata": {},
   "outputs": [
    {
     "data": {
      "text/plain": [
       "A global Python dict in the cloud.\n",
       "\n",
       "View the items in your browser at https://db1.io\n",
       "Read the documentation at https://db1-io.notion.site/DB1-Documentation-f5942d3984f7456ca49fba70c971bbf6"
      ]
     },
     "execution_count": 2,
     "metadata": {},
     "output_type": "execute_result"
    }
   ],
   "source": [
    "DB1"
   ]
  },
  {
   "cell_type": "markdown",
   "id": "adcc1089-c3cd-479e-be17-1bc25b827660",
   "metadata": {},
   "source": [
    "### Choose a key"
   ]
  },
  {
   "cell_type": "code",
   "execution_count": 3,
   "id": "3890482b-9509-44e6-b60b-356f895b6072",
   "metadata": {},
   "outputs": [],
   "source": [
    "KEY = \"example_key\""
   ]
  },
  {
   "cell_type": "markdown",
   "id": "ed86eabf-2f04-4b5a-b5f9-1d072e78e9b8",
   "metadata": {},
   "source": [
    "### Set the value of the item"
   ]
  },
  {
   "cell_type": "code",
   "execution_count": 4,
   "id": "bfb8876d-19e1-4034-a3e1-208ec81062f5",
   "metadata": {},
   "outputs": [],
   "source": [
    "DB1[KEY] = 123"
   ]
  },
  {
   "cell_type": "markdown",
   "id": "21d15b69-e8cc-4aae-885b-27a4efde9d19",
   "metadata": {},
   "source": [
    "#### Check it out in the panel or share the key with a friend"
   ]
  },
  {
   "cell_type": "code",
   "execution_count": 5,
   "id": "22dcdc10-9e1f-4901-a014-20cb7d5ae28f",
   "metadata": {},
   "outputs": [
    {
     "data": {
      "text/plain": [
       "'https://db1.io/?key=example_key'"
      ]
     },
     "execution_count": 5,
     "metadata": {},
     "output_type": "execute_result"
    }
   ],
   "source": [
    "db1.get_url(KEY)"
   ]
  },
  {
   "cell_type": "markdown",
   "id": "dfe1313c-b2f3-4d28-9aaa-c9a6836b03a3",
   "metadata": {},
   "source": [
    "#### Get the value"
   ]
  },
  {
   "cell_type": "code",
   "execution_count": 6,
   "id": "700556a6-f52e-45bf-8957-732578d63956",
   "metadata": {},
   "outputs": [
    {
     "data": {
      "text/plain": [
       "123"
      ]
     },
     "execution_count": 6,
     "metadata": {},
     "output_type": "execute_result"
    }
   ],
   "source": [
    "DB1[KEY]"
   ]
  },
  {
   "cell_type": "markdown",
   "id": "065c3e53-4569-4cc3-a8be-cb2e88a55b72",
   "metadata": {},
   "source": [
    "### Another example"
   ]
  },
  {
   "cell_type": "code",
   "execution_count": 7,
   "id": "1e2695a3-2f5e-4835-8bd0-085fe5d9a62e",
   "metadata": {},
   "outputs": [],
   "source": [
    "DB1[KEY] = {\n",
    "    \"hello\": \"world\",\n",
    "    \"ndarray\": np.array([1, 2, 3, 4]),\n",
    "    \"list\": [1, 2, 3, 4, 5, 6, 7, 8],\n",
    "    \"data_frame\": pd.DataFrame(data={\"col1\": [1, 2], \"col2\": [3, 4]}),\n",
    "    \"dict\": {\n",
    "        \"hello\": [\"world\", \"!\"],\n",
    "        \"another_ndarray\": np.array([1, 2, 3, 4, 5, 6, 7, 8]),\n",
    "    },\n",
    "}"
   ]
  },
  {
   "cell_type": "code",
   "execution_count": 8,
   "id": "545eefa5-46d8-407e-b802-812a3bf1353a",
   "metadata": {},
   "outputs": [
    {
     "data": {
      "text/plain": [
       "{'hello': 'world',\n",
       " 'ndarray': array([1, 2, 3, 4]),\n",
       " 'list': [1, 2, 3, 4, 5, 6, 7, 8],\n",
       " 'data_frame':    col1  col2\n",
       " 0     1     3\n",
       " 1     2     4,\n",
       " 'dict': {'hello': ['world', '!'],\n",
       "  'another_ndarray': array([1, 2, 3, 4, 5, 6, 7, 8])}}"
      ]
     },
     "execution_count": 8,
     "metadata": {},
     "output_type": "execute_result"
    }
   ],
   "source": [
    "DB1[KEY]"
   ]
  }
 ],
 "metadata": {
  "kernelspec": {
   "display_name": "Python 3 (ipykernel)",
   "language": "python",
   "name": "python3"
  },
  "language_info": {
   "codemirror_mode": {
    "name": "ipython",
    "version": 3
   },
   "file_extension": ".py",
   "mimetype": "text/x-python",
   "name": "python",
   "nbconvert_exporter": "python",
   "pygments_lexer": "ipython3",
   "version": "3.9.13"
  }
 },
 "nbformat": 4,
 "nbformat_minor": 5
}
